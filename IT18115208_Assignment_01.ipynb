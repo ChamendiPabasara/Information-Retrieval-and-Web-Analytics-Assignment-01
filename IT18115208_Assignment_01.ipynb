{
 "cells": [
  {
   "cell_type": "markdown",
   "metadata": {},
   "source": [
    "Q1). \t\t\t\t\t\t\t\t\t\t\n",
    "Let us have the following collection of documents.\n",
    "D1: “Frodo stabbed the orc with the red sword”.\n",
    "D2: “Frodo and Sam used the blue lamp to locate orcs”.\n",
    "D3: “Sam killed many orcs in Mordor with the blue sword”.\n",
    "\n",
    "a). Write a program to identify the terms in the document.\t\t\t\n"
   ]
  },
  {
   "cell_type": "code",
   "execution_count": 78,
   "metadata": {},
   "outputs": [],
   "source": [
    "import pandas as pd\n",
    "from sklearn.feature_extraction.text import CountVectorizer\n",
    "#Libraries\n",
    "import os \n",
    "\n",
    "\n",
    "def IidentifyTheTerms ():\n",
    "    \n",
    "    AddedWords ={}\n",
    "\n",
    "    cwd = os.getcwd()\n",
    "#give local machine path(Docs stored)\n",
    "    os.chdir('C:\\\\Users\\\\chame\\\\OneDrive\\\\Desktop\\\\IRIWA_Assignment1\\\\Docs')\n",
    "    fileList = os.listdir(os.getcwd())\n",
    "\n",
    "#access each file in given path\n",
    "    for file in fileList:\n",
    "        with open(file,'r')as f :\n",
    "    #access each every word and lowercase and split\n",
    "         words = f.read().lower().split()\n",
    "    \n",
    "    \n",
    "\n",
    "        for word in words:\n",
    "#remove specialsymbols\n",
    "            if word[-1] in [',','!','?','.']:\n",
    "                   word = word[:-1]\n",
    "\n",
    "            if word not in AddedWords.keys():\n",
    "                   AddedWords[word] =[f.name]\n",
    "        \n",
    "            else:\n",
    "                if file not in AddedWords[word]:\n",
    "                    AddedWords[word] +=[f.name]\n",
    "                \n",
    "    \n",
    "    return AddedWords,fileList"
   ]
  },
  {
   "cell_type": "code",
   "execution_count": 79,
   "metadata": {},
   "outputs": [
    {
     "name": "stdout",
     "output_type": "stream",
     "text": [
      "({'frodo': ['D1.txt', 'D2.txt'], 'stabbed': ['D1.txt'], 'the': ['D1.txt', 'D2.txt', 'D3.txt'], 'orc': ['D1.txt'], 'with': ['D1.txt', 'D3.txt'], 'red': ['D1.txt'], 'sword': ['D1.txt', 'D3.txt'], 'and': ['D2.txt'], 'sam': ['D2.txt', 'D3.txt'], 'used': ['D2.txt'], 'blue': ['D2.txt', 'D3.txt'], 'lamp': ['D2.txt'], 'to': ['D2.txt'], 'locate': ['D2.txt'], 'orcs': ['D2.txt', 'D3.txt'], 'killed': ['D3.txt'], 'many': ['D3.txt'], 'in': ['D3.txt'], 'mordor': ['D3.txt']}, ['D1.txt', 'D2.txt', 'D3.txt'])\n"
     ]
    }
   ],
   "source": [
    "print(IidentifyTheTerms())"
   ]
  },
  {
   "cell_type": "markdown",
   "metadata": {},
   "source": [
    "b). Build a term document incidence matrix\t"
   ]
  },
  {
   "cell_type": "code",
   "execution_count": 80,
   "metadata": {},
   "outputs": [],
   "source": [
    "#import necessary libraries\n",
    "import pandas as pd\n",
    "import sklearn as sk\n",
    "import math \n",
    "\n",
    "def TermMatrix():\n",
    "#load up our sample sentences\n",
    "\n",
    "    D1 = 'Frodo stabbed the orc with the red sword'\n",
    "    D2 = 'Frodo and Sam used the blue lamp to locate orcs'\n",
    "    D3 = 'Sam killed many orcs in Mordor with the blue sword'\n",
    "\n",
    "#split so each word have their own string\n",
    "    D1 = D1.split(\" \")\n",
    "    D2 = D2.split(\" \")\n",
    "    D3 = D3.split(\" \")\n",
    "\n",
    "#join them to remove common duplicate words\n",
    "    total1= set(D1).union(set(D2))\n",
    "#print(total)\n",
    "    total2= set(total1).union(set(D3))\n",
    "#print(total2)\n",
    "\n",
    "#Assign 0 \n",
    "    wordDictA = dict.fromkeys(total2, 0) \n",
    "    wordDictB = dict.fromkeys(total2, 0)\n",
    "    wordDictC = dict.fromkeys(total2, 0)\n",
    "\n",
    "#check whether the words are in the document\n",
    "    for word in D1:\n",
    "        wordDictA[word]=1\n",
    "    \n",
    "    for word in D2:\n",
    "        wordDictB[word]=1\n",
    "    \n",
    "    for word in D3:\n",
    "        wordDictC[word]=1\n",
    "    \n",
    "    \n",
    " #put them in a dataframe and then view the result:\n",
    "    df=pd.DataFrame([wordDictA, wordDictB,wordDictC])\n",
    "    df_new = df.rename(index={0:'D1', 1:'D2',2:'D3'})\n",
    "    df_new\n",
    "    return df_new"
   ]
  },
  {
   "cell_type": "code",
   "execution_count": 81,
   "metadata": {},
   "outputs": [
    {
     "data": {
      "text/html": [
       "<div>\n",
       "<style scoped>\n",
       "    .dataframe tbody tr th:only-of-type {\n",
       "        vertical-align: middle;\n",
       "    }\n",
       "\n",
       "    .dataframe tbody tr th {\n",
       "        vertical-align: top;\n",
       "    }\n",
       "\n",
       "    .dataframe thead th {\n",
       "        text-align: right;\n",
       "    }\n",
       "</style>\n",
       "<table border=\"1\" class=\"dataframe\">\n",
       "  <thead>\n",
       "    <tr style=\"text-align: right;\">\n",
       "      <th></th>\n",
       "      <th>Sam</th>\n",
       "      <th>orc</th>\n",
       "      <th>Frodo</th>\n",
       "      <th>the</th>\n",
       "      <th>used</th>\n",
       "      <th>blue</th>\n",
       "      <th>locate</th>\n",
       "      <th>lamp</th>\n",
       "      <th>and</th>\n",
       "      <th>to</th>\n",
       "      <th>red</th>\n",
       "      <th>with</th>\n",
       "      <th>sword</th>\n",
       "      <th>orcs</th>\n",
       "      <th>in</th>\n",
       "      <th>killed</th>\n",
       "      <th>stabbed</th>\n",
       "      <th>Mordor</th>\n",
       "      <th>many</th>\n",
       "    </tr>\n",
       "  </thead>\n",
       "  <tbody>\n",
       "    <tr>\n",
       "      <th>D1</th>\n",
       "      <td>0</td>\n",
       "      <td>1</td>\n",
       "      <td>1</td>\n",
       "      <td>1</td>\n",
       "      <td>0</td>\n",
       "      <td>0</td>\n",
       "      <td>0</td>\n",
       "      <td>0</td>\n",
       "      <td>0</td>\n",
       "      <td>0</td>\n",
       "      <td>1</td>\n",
       "      <td>1</td>\n",
       "      <td>1</td>\n",
       "      <td>0</td>\n",
       "      <td>0</td>\n",
       "      <td>0</td>\n",
       "      <td>1</td>\n",
       "      <td>0</td>\n",
       "      <td>0</td>\n",
       "    </tr>\n",
       "    <tr>\n",
       "      <th>D2</th>\n",
       "      <td>1</td>\n",
       "      <td>0</td>\n",
       "      <td>1</td>\n",
       "      <td>1</td>\n",
       "      <td>1</td>\n",
       "      <td>1</td>\n",
       "      <td>1</td>\n",
       "      <td>1</td>\n",
       "      <td>1</td>\n",
       "      <td>1</td>\n",
       "      <td>0</td>\n",
       "      <td>0</td>\n",
       "      <td>0</td>\n",
       "      <td>1</td>\n",
       "      <td>0</td>\n",
       "      <td>0</td>\n",
       "      <td>0</td>\n",
       "      <td>0</td>\n",
       "      <td>0</td>\n",
       "    </tr>\n",
       "    <tr>\n",
       "      <th>D3</th>\n",
       "      <td>1</td>\n",
       "      <td>0</td>\n",
       "      <td>0</td>\n",
       "      <td>1</td>\n",
       "      <td>0</td>\n",
       "      <td>1</td>\n",
       "      <td>0</td>\n",
       "      <td>0</td>\n",
       "      <td>0</td>\n",
       "      <td>0</td>\n",
       "      <td>0</td>\n",
       "      <td>1</td>\n",
       "      <td>1</td>\n",
       "      <td>1</td>\n",
       "      <td>1</td>\n",
       "      <td>1</td>\n",
       "      <td>0</td>\n",
       "      <td>1</td>\n",
       "      <td>1</td>\n",
       "    </tr>\n",
       "  </tbody>\n",
       "</table>\n",
       "</div>"
      ],
      "text/plain": [
       "    Sam  orc  Frodo  the  used  blue  locate  lamp  and  to  red  with  sword  \\\n",
       "D1    0    1      1    1     0     0       0     0    0   0    1     1      1   \n",
       "D2    1    0      1    1     1     1       1     1    1   1    0     0      0   \n",
       "D3    1    0      0    1     0     1       0     0    0   0    0     1      1   \n",
       "\n",
       "    orcs  in  killed  stabbed  Mordor  many  \n",
       "D1     0   0       0        1       0     0  \n",
       "D2     1   0       0        0       0     0  \n",
       "D3     1   1       1        0       1     1  "
      ]
     },
     "execution_count": 81,
     "metadata": {},
     "output_type": "execute_result"
    }
   ],
   "source": [
    "result = TermMatrix()\n",
    "result"
   ]
  },
  {
   "cell_type": "markdown",
   "metadata": {},
   "source": [
    "c). Using the above matrix identify the documents that are relevant for the following queries? \n",
    "\n"
   ]
  },
  {
   "cell_type": "markdown",
   "metadata": {},
   "source": [
    "q1: (Frodo AND orc AND sword)\t"
   ]
  },
  {
   "cell_type": "code",
   "execution_count": 82,
   "metadata": {},
   "outputs": [],
   "source": [
    "resList = IidentifyTheTerms()\n",
    "#print(IidentifyTheTerms())\n",
    "\n",
    "def AND_op(list1,list2):\n",
    "\n",
    "    if ((list1)and (list2)):\n",
    "        return set(list1).intersection(list2)\n",
    "    else:\n",
    "        return set()\n",
    "\n",
    "       \n",
    "def NOT_op(a):\n",
    "    return set(resList[1]).symmetric_difference(a)"
   ]
  },
  {
   "cell_type": "code",
   "execution_count": 89,
   "metadata": {},
   "outputs": [
    {
     "name": "stdout",
     "output_type": "stream",
     "text": [
      "Frodo AND orc AND sword :{'D1.txt'}\n"
     ]
    }
   ],
   "source": [
    "IndexDict = resList[0]\n",
    "\n",
    "for key in IndexDict.keys():\n",
    "    #print(key)\n",
    "        \n",
    "    if key == 'frodo':\n",
    "            List_1 = IndexDict[key]\n",
    "           \n",
    "            \n",
    "    elif key == 'orc':\n",
    "             List_2 = IndexDict[key]\n",
    "             \n",
    "                \n",
    "    elif key == 'sword':\n",
    "             List_3 = IndexDict[key]\n",
    "            \n",
    "     \n",
    "    \n",
    "res1 = (AND_op(List_1,List_2))\n",
    "res2 = (AND_op(ans,List_3))\n",
    "   \n",
    "print('Frodo AND orc AND sword :'+ str(res2))"
   ]
  },
  {
   "cell_type": "markdown",
   "metadata": {},
   "source": [
    "q2: (Sam AND blue AND NOT Frodo)"
   ]
  },
  {
   "cell_type": "code",
   "execution_count": 91,
   "metadata": {},
   "outputs": [
    {
     "name": "stdout",
     "output_type": "stream",
     "text": [
      "Sam AND blue AND NOT Frodo :{'D3.txt'}\n"
     ]
    }
   ],
   "source": [
    "IndexDict = resList[0]\n",
    "\n",
    "List_4 = []\n",
    "for key in IndexDict.keys():\n",
    "    \n",
    "    if key == 'sam':\n",
    "        List_4 = IndexDict[key]\n",
    "        \n",
    "    elif key == 'blue':\n",
    "        List_5 = IndexDict[key]\n",
    "        \n",
    "    elif key == 'frodo':\n",
    "        List_6 = IndexDict[key]\n",
    "        \n",
    "    \n",
    "res3 = (AND_op(List_4,List_5))\n",
    "\n",
    "res4 = NOT_op(List_6)\n",
    "            \n",
    "print('Sam AND blue AND NOT Frodo :' +str(AND_op(res3,res4)))"
   ]
  },
  {
   "cell_type": "markdown",
   "metadata": {},
   "source": [
    "----------------------------"
   ]
  },
  {
   "cell_type": "markdown",
   "metadata": {},
   "source": [
    "Q2). \t\t\t\t\t\t\t\t\t\t\n",
    "Use the documents in the Reuters training data set provided by NLTK for this question. Import nltk library and download the files (nltk.download()).  The documents will be located at  ../nltk_data/corpora/reuters/training. In order to collect the vocabulary, you need to apply tokenization and stemming on the document text. \n"
   ]
  },
  {
   "cell_type": "markdown",
   "metadata": {},
   "source": [
    "1.\tBuild modules to tokenize words and sentences"
   ]
  },
  {
   "cell_type": "code",
   "execution_count": 102,
   "metadata": {},
   "outputs": [
    {
     "name": "stdout",
     "output_type": "stream",
     "text": [
      "showing info https://raw.githubusercontent.com/nltk/nltk_data/gh-pages/index.xml\n"
     ]
    },
    {
     "data": {
      "text/plain": [
       "True"
      ]
     },
     "execution_count": 102,
     "metadata": {},
     "output_type": "execute_result"
    }
   ],
   "source": [
    "import nltk\n",
    "nltk.download()"
   ]
  },
  {
   "cell_type": "code",
   "execution_count": 9,
   "metadata": {},
   "outputs": [
    {
     "name": "stdout",
     "output_type": "stream",
     "text": [
      "['BAHIA COCOA REVIEW\\n  Showers continued throughout the week in\\n  the Bahia cocoa zone, alleviating the drought since early\\n  January and improving prospects for the coming temporao,\\n  although normal humidity levels have not been restored,\\n  Comissaria Smith said in its weekly review.\\n      The dry period means the temporao will be late this year.\\n      Arrivals for the week ended February 22 were 155,221 bags\\n  of 60 kilos making a cumulative total for the season of 5.93\\n  mln against 5.81 at the same stage last year', 'Again it seems\\n  that cocoa delivered earlier on consignment was included in the\\n  arrivals figures.\\n      Comissaria Smith said there is still some doubt as to how\\n  much old crop cocoa is still available as harvesting has\\n  practically come to an end', 'With total Bahia crop estimates\\n  around 6.4 mln bags and sales standing at almost 6.2 mln there\\n  are a few hundred thousand bags still in the hands of farmers,\\n  middlemen, exporters and processors.\\n      There are doubts as to how much of this cocoa would be fit\\n  for export as shippers are now experiencing dificulties in\\n  obtaining +Bahia superior+ certificates.\\n      In view of the lower quality over recent weeks farmers have\\n  sold a good part of their cocoa held on consignment.\\n      Comissaria Smith said spot bean prices rose to 340 to 350\\n  cruzados per arroba of 15 kilos.\\n      Bean shippers were reluctant to offer nearby shipment and\\n  only limited sales were booked for March shipment at 1,750 to\\n  1,780 dlrs per tonne to ports to be named.\\n      New crop sales were also light and all to open ports with\\n  June/July going at 1,850 and 1,880 dlrs and at 35 and 45 dlrs\\n  under New York july, Aug/Sept at 1,870, 1,875 and 1,880 dlrs\\n  per tonne FOB.\\n      Routine sales of butter were made', 'March/April sold at\\n  4,340, 4,345 and 4,350 dlrs.\\n      April/May butter went at 2.27 times New York May, June/July\\n  at 4,400 and 4,415 dlrs, Aug/Sept at 4,351 to 4,450 dlrs and at\\n  2.27 and 2.28 times New York Sept and Oct/Dec at 4,480 dlrs and\\n  2.27 times New York Dec, Comissaria Smith said.\\n      Destinations were the U.S., Covertible currency areas,\\n  Uruguay and open ports.\\n      Cake sales were registered at 785 to 995 dlrs for\\n  March/April, 785 dlrs for May, 753 dlrs for Aug and 0.39 times\\n  New York Dec for Oct/Dec.\\n      Buyers were the U.S., Argentina, Uruguay and convertible\\n  currency areas.\\n      Liquor sales were limited with March/April selling at 2,325\\n  and 2,380 dlrs, June/July at 2,375 dlrs and at 1.25 times New\\n  York July, Aug/Sept at 2,400 dlrs and at 1.25 times New York\\n  Sept and Oct/Dec at 1.25 times New York Dec, Comissaria Smith\\n  said.\\n      Total Bahia sales are currently estimated at 6.13 mln bags\\n  against the 1986/87 crop and 1.06 mln bags against the 1987/88\\n  crop.\\n      Final figures for the period to February 28 are expected to\\n  be published by the Brazilian Cocoa Trade Commission after\\n  carnival which ends midday on February 27.\\n  \\n\\n']\n",
      "\n",
      "[\"COMPUTER TERMINAL SYSTEMS &lt;CPML> COMPLETES SALE\\n  Computer Terminal Systems Inc said\\n  it has completed the sale of 200,000 shares of its common\\n  stock, and warrants to acquire an additional one mln shares, to\\n  &lt;Sedio N.V.> of Lugano, Switzerland for 50,000 dlrs.\\n      The company said the warrants are exercisable for five\\n  years at a purchase price of .125 dlrs per share.\\n      Computer Terminal said Sedio also has the right to buy\\n  additional shares and increase its total holdings up to 40 pct\\n  of the Computer Terminal's outstanding common stock under\\n  certain circumstances involving change of control at the\\n  company.\\n      The company said if the conditions occur the warrants would\\n  be exercisable at a price equal to 75 pct of its common stock's\\n  market price at the time, not to exceed 1.50 dlrs per share.\\n      Computer Terminal also said it sold the technolgy rights to\\n  its Dot Matrix impact technology, including any future\\n  improvements, to &lt;Woodco Inc> of Houston, Tex\", 'for 200,000\\n  dlrs', 'But, it said it would continue to be the exclusive\\n  worldwide licensee of the technology for Woodco.\\n      The company said the moves were part of its reorganization\\n  plan and would help pay current operation costs and ensure\\n  product delivery.\\n      Computer Terminal makes computer generated labels, forms,\\n  tags and ticket printers and terminals.\\n  \\n\\n']\n",
      "\n",
      "['NATIONAL AVERAGE PRICES FOR FARMER-OWNED RESERVE\\n  The U.S', 'Agriculture Department\\n  reported the farmer-owned reserve national five-day average\\n  price through February 25 as follows (Dlrs/Bu-Sorghum Cwt) -\\n           Natl   Loan           Release   Call\\n           Avge   Rate-X  Level    Price  Price\\n   Wheat   2.55   2.40       IV     4.65     --\\n                              V     4.65     --\\n                             VI     4.45     --\\n   Corn    1.35   1.92       IV     3.15   3.15\\n                              V     3.25     --\\n   X - 1986 Rates.\\n  \\n            Natl   Loan          Release   Call\\n            Avge   Rate-X  Level   Price  Price\\n   Oats     1.24   0.99        V    1.65    -- \\n   Barley   n.a', '  1.56       IV    2.55   2.55\\n                               V    2.65    -- \\n   Sorghum  2.34   3.25-Y     IV    5.36   5.36\\n                               V    5.54    -- \\n      Reserves I, II and III have matured', 'Level IV reflects\\n  grain entered after Oct 6, 1981 for feedgrain and after July\\n  23, 1981 for wheat', 'Level V wheat/barley after 5/14/82,\\n  corn/sorghum after 7/1/82', 'Level VI covers wheat entered after\\n  January 19, 1984', ' X-1986 rates', 'Y-dlrs per CWT (100 lbs).\\n  n.a.-not available.\\n  \\n\\n']\n",
      "\n",
      "['ARGENTINE 1986/87 GRAIN/OILSEED REGISTRATIONS\\n  Argentine grain board figures show\\n  crop registrations of grains, oilseeds and their products to\\n  February 11, in thousands of tonnes, showing those for futurE\\n  shipments month, 1986/87 total and 1985/86 total to February\\n  12, 1986, in brackets:\\n      Bread wheat prev 1,655.8, Feb 872.0, March 164.6, total\\n  2,692.4 (4,161.0).\\n      Maize Mar 48.0, total 48.0 (nil).\\n      Sorghum nil (nil)\\n      Oilseed export registrations were:\\n      Sunflowerseed total 15.0 (7.9)\\n      Soybean May 20.0, total 20.0 (nil)\\n      The board also detailed export registrations for\\n  subproducts, as follows,\\n      SUBPRODUCTS\\n      Wheat prev 39.9, Feb 48.7, March 13.2, Apr 10.0, total\\n  111.8 (82.7) .\\n      Linseed prev 34.8, Feb 32.9, Mar 6.8, Apr 6.3, total 80.8\\n  (87.4).\\n      Soybean prev 100.9, Feb 45.1, MAr nil, Apr nil, May 20.0,\\n  total 166.1 (218.5).\\n      Sunflowerseed prev 48.6, Feb 61.5, Mar 25.1, Apr 14.5,\\n  total 149.8 (145.3).\\n      Vegetable oil registrations were :         \\n      Sunoil prev 37.4, Feb 107.3, Mar 24.5, Apr 3.2, May nil,\\n  Jun 10.0, total 182.4 (117.6)', '                 \\n      Linoil prev 15.9, Feb 23.6, Mar 20.4, Apr 2.0, total 61.8,\\n  (76.1)', '                        \\n      Soybean oil prev 3.7, Feb 21.1, Mar nil, Apr 2.0, May 9.0,\\n  Jun 13.0, Jul 7.0, total 55.8 (33.7)', '       REUTER\\n  \\n\\n']\n",
      "\n",
      "['CHAMPION PRODUCTS &lt;CH> APPROVES STOCK SPLIT\\n  Champion Products Inc said its\\n  board of directors approved a two-for-one stock split of its\\n  common shares for shareholders of record as of April 1, 1987.\\n      The company also said its board voted to recommend to\\n  shareholders at the annual meeting April 23 an increase in the\\n  authorized capital stock from five mln to 25 mln shares.\\n  \\n\\n']\n",
      "['BAHIA COCOA REVIEW\\n  Showers continued throughout the week in\\n  the Bahia cocoa zone, alleviating the drought since early\\n  January and improving prospects for the coming temporao,\\n  although normal humidity levels have not been restored,\\n  Comissaria Smith said in its weekly review.\\n      The dry period means the temporao will be late this year.\\n      Arrivals for the week ended February 22 were 155,221 bags\\n  of 60 kilos making a cumulative total for the season of 5.93\\n  mln against 5.81 at the same stage last year', 'Again it seems\\n  that cocoa delivered earlier on consignment was included in the\\n  arrivals figures.\\n      Comissaria Smith said there is still some doubt as to how\\n  much old crop cocoa is still available as harvesting has\\n  practically come to an end', 'With total Bahia crop estimates\\n  around 6.4 mln bags and sales standing at almost 6.2 mln there\\n  are a few hundred thousand bags still in the hands of farmers,\\n  middlemen, exporters and processors.\\n      There are doubts as to how much of this cocoa would be fit\\n  for export as shippers are now experiencing dificulties in\\n  obtaining +Bahia superior+ certificates.\\n      In view of the lower quality over recent weeks farmers have\\n  sold a good part of their cocoa held on consignment.\\n      Comissaria Smith said spot bean prices rose to 340 to 350\\n  cruzados per arroba of 15 kilos.\\n      Bean shippers were reluctant to offer nearby shipment and\\n  only limited sales were booked for March shipment at 1,750 to\\n  1,780 dlrs per tonne to ports to be named.\\n      New crop sales were also light and all to open ports with\\n  June/July going at 1,850 and 1,880 dlrs and at 35 and 45 dlrs\\n  under New York july, Aug/Sept at 1,870, 1,875 and 1,880 dlrs\\n  per tonne FOB.\\n      Routine sales of butter were made', 'March/April sold at\\n  4,340, 4,345 and 4,350 dlrs.\\n      April/May butter went at 2.27 times New York May, June/July\\n  at 4,400 and 4,415 dlrs, Aug/Sept at 4,351 to 4,450 dlrs and at\\n  2.27 and 2.28 times New York Sept and Oct/Dec at 4,480 dlrs and\\n  2.27 times New York Dec, Comissaria Smith said.\\n      Destinations were the U.S., Covertible currency areas,\\n  Uruguay and open ports.\\n      Cake sales were registered at 785 to 995 dlrs for\\n  March/April, 785 dlrs for May, 753 dlrs for Aug and 0.39 times\\n  New York Dec for Oct/Dec.\\n      Buyers were the U.S., Argentina, Uruguay and convertible\\n  currency areas.\\n      Liquor sales were limited with March/April selling at 2,325\\n  and 2,380 dlrs, June/July at 2,375 dlrs and at 1.25 times New\\n  York July, Aug/Sept at 2,400 dlrs and at 1.25 times New York\\n  Sept and Oct/Dec at 1.25 times New York Dec, Comissaria Smith\\n  said.\\n      Total Bahia sales are currently estimated at 6.13 mln bags\\n  against the 1986/87 crop and 1.06 mln bags against the 1987/88\\n  crop.\\n      Final figures for the period to February 28 are expected to\\n  be published by the Brazilian Cocoa Trade Commission after\\n  carnival which ends midday on February 27.\\n  \\n\\n']\n",
      "[\"COMPUTER TERMINAL SYSTEMS &lt;CPML> COMPLETES SALE\\n  Computer Terminal Systems Inc said\\n  it has completed the sale of 200,000 shares of its common\\n  stock, and warrants to acquire an additional one mln shares, to\\n  &lt;Sedio N.V.> of Lugano, Switzerland for 50,000 dlrs.\\n      The company said the warrants are exercisable for five\\n  years at a purchase price of .125 dlrs per share.\\n      Computer Terminal said Sedio also has the right to buy\\n  additional shares and increase its total holdings up to 40 pct\\n  of the Computer Terminal's outstanding common stock under\\n  certain circumstances involving change of control at the\\n  company.\\n      The company said if the conditions occur the warrants would\\n  be exercisable at a price equal to 75 pct of its common stock's\\n  market price at the time, not to exceed 1.50 dlrs per share.\\n      Computer Terminal also said it sold the technolgy rights to\\n  its Dot Matrix impact technology, including any future\\n  improvements, to &lt;Woodco Inc> of Houston, Tex\", 'for 200,000\\n  dlrs', 'But, it said it would continue to be the exclusive\\n  worldwide licensee of the technology for Woodco.\\n      The company said the moves were part of its reorganization\\n  plan and would help pay current operation costs and ensure\\n  product delivery.\\n      Computer Terminal makes computer generated labels, forms,\\n  tags and ticket printers and terminals.\\n  \\n\\n']\n",
      "['NATIONAL AVERAGE PRICES FOR FARMER-OWNED RESERVE\\n  The U.S', 'Agriculture Department\\n  reported the farmer-owned reserve national five-day average\\n  price through February 25 as follows (Dlrs/Bu-Sorghum Cwt) -\\n           Natl   Loan           Release   Call\\n           Avge   Rate-X  Level    Price  Price\\n   Wheat   2.55   2.40       IV     4.65     --\\n                              V     4.65     --\\n                             VI     4.45     --\\n   Corn    1.35   1.92       IV     3.15   3.15\\n                              V     3.25     --\\n   X - 1986 Rates.\\n  \\n            Natl   Loan          Release   Call\\n            Avge   Rate-X  Level   Price  Price\\n   Oats     1.24   0.99        V    1.65    -- \\n   Barley   n.a', '  1.56       IV    2.55   2.55\\n                               V    2.65    -- \\n   Sorghum  2.34   3.25-Y     IV    5.36   5.36\\n                               V    5.54    -- \\n      Reserves I, II and III have matured', 'Level IV reflects\\n  grain entered after Oct 6, 1981 for feedgrain and after July\\n  23, 1981 for wheat', 'Level V wheat/barley after 5/14/82,\\n  corn/sorghum after 7/1/82', 'Level VI covers wheat entered after\\n  January 19, 1984', ' X-1986 rates', 'Y-dlrs per CWT (100 lbs).\\n  n.a.-not available.\\n  \\n\\n']\n",
      "['ARGENTINE 1986/87 GRAIN/OILSEED REGISTRATIONS\\n  Argentine grain board figures show\\n  crop registrations of grains, oilseeds and their products to\\n  February 11, in thousands of tonnes, showing those for futurE\\n  shipments month, 1986/87 total and 1985/86 total to February\\n  12, 1986, in brackets:\\n      Bread wheat prev 1,655.8, Feb 872.0, March 164.6, total\\n  2,692.4 (4,161.0).\\n      Maize Mar 48.0, total 48.0 (nil).\\n      Sorghum nil (nil)\\n      Oilseed export registrations were:\\n      Sunflowerseed total 15.0 (7.9)\\n      Soybean May 20.0, total 20.0 (nil)\\n      The board also detailed export registrations for\\n  subproducts, as follows,\\n      SUBPRODUCTS\\n      Wheat prev 39.9, Feb 48.7, March 13.2, Apr 10.0, total\\n  111.8 (82.7) .\\n      Linseed prev 34.8, Feb 32.9, Mar 6.8, Apr 6.3, total 80.8\\n  (87.4).\\n      Soybean prev 100.9, Feb 45.1, MAr nil, Apr nil, May 20.0,\\n  total 166.1 (218.5).\\n      Sunflowerseed prev 48.6, Feb 61.5, Mar 25.1, Apr 14.5,\\n  total 149.8 (145.3).\\n      Vegetable oil registrations were :         \\n      Sunoil prev 37.4, Feb 107.3, Mar 24.5, Apr 3.2, May nil,\\n  Jun 10.0, total 182.4 (117.6)', '                 \\n      Linoil prev 15.9, Feb 23.6, Mar 20.4, Apr 2.0, total 61.8,\\n  (76.1)', '                        \\n      Soybean oil prev 3.7, Feb 21.1, Mar nil, Apr 2.0, May 9.0,\\n  Jun 13.0, Jul 7.0, total 55.8 (33.7)', '       REUTER\\n  \\n\\n']\n",
      "['CHAMPION PRODUCTS &lt;CH> APPROVES STOCK SPLIT\\n  Champion Products Inc said its\\n  board of directors approved a two-for-one stock split of its\\n  common shares for shareholders of record as of April 1, 1987.\\n      The company also said its board voted to recommend to\\n  shareholders at the annual meeting April 23 an increase in the\\n  authorized capital stock from five mln to 25 mln shares.\\n  \\n\\n']\n"
     ]
    }
   ],
   "source": [
    "import os\n",
    "import string\n",
    "\n",
    "\n",
    "def tokenization_sentences():\n",
    "    cwd = os.getcwd()\n",
    "    os.chdir('C:\\\\Users\\\\chame\\\\AppData\\\\Roaming\\\\nltk_data\\\\corpora\\\\reuters\\\\reuters\\\\training')\n",
    "\n",
    "    fileList = os.listdir(os.getcwd())\n",
    "    sentence_splitted = []\n",
    "    for file in fileList:\n",
    "        with open(file, 'r') as f:\n",
    "            c = f.read()\n",
    "            x = c.split(\". \")\n",
    "            sentence_splitted.append(x)\n",
    "\n",
    "    return sentence_splitted\n",
    "\n",
    "\n",
    "print(*tokenization_sentences(), sep='\\n\\n')\n",
    "for x in tokenization_sentences():\n",
    "    print(x)"
   ]
  },
  {
   "cell_type": "code",
   "execution_count": 10,
   "metadata": {},
   "outputs": [
    {
     "name": "stdout",
     "output_type": "stream",
     "text": [
      "['BAHIA', 'COCOA', 'REVIEWn', 'Showers', 'continued', 'throughout', 'the', 'week', 'inn', 'the', 'Bahia', 'cocoa', 'zone', 'alleviating', 'the', 'drought', 'since', 'earlyn', 'January', 'and', 'improving', 'prospects', 'for', 'the', 'coming', 'temporaon', 'although', 'normal', 'humidity', 'levels', 'have', 'not', 'been', 'restoredn', 'Comissaria', 'Smith', 'said', 'in', 'its', 'weekly', 'reviewn', 'The', 'dry', 'period', 'means', 'the', 'temporao', 'will', 'be', 'late', 'this', 'yearn', 'Arrivals', 'for', 'the', 'week', 'ended', 'February', '22', 'were', '155221', 'bagsn', 'of', '60', 'kilos', 'making', 'a', 'cumulative', 'total', 'for', 'the', 'season', 'of', '593n', 'mln', 'against', '581', 'at', 'the', 'same', 'stage', 'last', 'year', 'Again', 'it', 'seemsn', 'that', 'cocoa', 'delivered', 'earlier', 'on', 'consignment', 'was', 'included', 'in', 'then', 'arrivals', 'figuresn', 'Comissaria', 'Smith', 'said', 'there', 'is', 'still', 'some', 'doubt', 'as', 'to', 'hown', 'much', 'old', 'crop', 'cocoa', 'is', 'still', 'available', 'as', 'harvesting', 'hasn', 'practically', 'come', 'to', 'an', 'end', 'With', 'total', 'Bahia', 'crop', 'estimatesn', 'around', '64', 'mln', 'bags', 'and', 'sales', 'standing', 'at', 'almost', '62', 'mln', 'theren', 'are', 'a', 'few', 'hundred', 'thousand', 'bags', 'still', 'in', 'the', 'hands', 'of', 'farmersn', 'middlemen', 'exporters', 'and', 'processorsn', 'There', 'are', 'doubts', 'as', 'to', 'how', 'much', 'of', 'this', 'cocoa', 'would', 'be', 'fitn', 'for', 'export', 'as', 'shippers', 'are', 'now', 'experiencing', 'dificulties', 'inn', 'obtaining', 'Bahia', 'superior', 'certificatesn', 'In', 'view', 'of', 'the', 'lower', 'quality', 'over', 'recent', 'weeks', 'farmers', 'haven', 'sold', 'a', 'good', 'part', 'of', 'their', 'cocoa', 'held', 'on', 'consignmentn', 'Comissaria', 'Smith', 'said', 'spot', 'bean', 'prices', 'rose', 'to', '340', 'to', '350n', 'cruzados', 'per', 'arroba', 'of', '15', 'kilosn', 'Bean', 'shippers', 'were', 'reluctant', 'to', 'offer', 'nearby', 'shipment', 'andn', 'only', 'limited', 'sales', 'were', 'booked', 'for', 'March', 'shipment', 'at', '1750', 'ton', '1780', 'dlrs', 'per', 'tonne', 'to', 'ports', 'to', 'be', 'namedn', 'New', 'crop', 'sales', 'were', 'also', 'light', 'and', 'all', 'to', 'open', 'ports', 'withn', 'JuneJuly', 'going', 'at', '1850', 'and', '1880', 'dlrs', 'and', 'at', '35', 'and', '45', 'dlrsn', 'under', 'New', 'York', 'july', 'AugSept', 'at', '1870', '1875', 'and', '1880', 'dlrsn', 'per', 'tonne', 'FOBn', 'Routine', 'sales', 'of', 'butter', 'were', 'made', 'MarchApril', 'sold', 'atn', '4340', '4345', 'and', '4350', 'dlrsn', 'AprilMay', 'butter', 'went', 'at', '227', 'times', 'New', 'York', 'May', 'JuneJulyn', 'at', '4400', 'and', '4415', 'dlrs', 'AugSept', 'at', '4351', 'to', '4450', 'dlrs', 'and', 'atn', '227', 'and', '228', 'times', 'New', 'York', 'Sept', 'and', 'OctDec', 'at', '4480', 'dlrs', 'andn', '227', 'times', 'New', 'York', 'Dec', 'Comissaria', 'Smith', 'saidn', 'Destinations', 'were', 'the', 'US', 'Covertible', 'currency', 'areasn', 'Uruguay', 'and', 'open', 'portsn', 'Cake', 'sales', 'were', 'registered', 'at', '785', 'to', '995', 'dlrs', 'forn', 'MarchApril', '785', 'dlrs', 'for', 'May', '753', 'dlrs', 'for', 'Aug', 'and', '039', 'timesn', 'New', 'York', 'Dec', 'for', 'OctDecn', 'Buyers', 'were', 'the', 'US', 'Argentina', 'Uruguay', 'and', 'convertiblen', 'currency', 'areasn', 'Liquor', 'sales', 'were', 'limited', 'with', 'MarchApril', 'selling', 'at', '2325n', 'and', '2380', 'dlrs', 'JuneJuly', 'at', '2375', 'dlrs', 'and', 'at', '125', 'times', 'Newn', 'York', 'July', 'AugSept', 'at', '2400', 'dlrs', 'and', 'at', '125', 'times', 'New', 'Yorkn', 'Sept', 'and', 'OctDec', 'at', '125', 'times', 'New', 'York', 'Dec', 'Comissaria', 'Smithn', 'saidn', 'Total', 'Bahia', 'sales', 'are', 'currently', 'estimated', 'at', '613', 'mln', 'bagsn', 'against', 'the', '198687', 'crop', 'and', '106', 'mln', 'bags', 'against', 'the', '198788n', 'cropn', 'Final', 'figures', 'for', 'the', 'period', 'to', 'February', '28', 'are', 'expected', 'ton', 'be', 'published', 'by', 'the', 'Brazilian', 'Cocoa', 'Trade', 'Commission', 'aftern', 'carnival', 'which', 'ends', 'midday', 'on', 'February', '27n', 'nn', 'COMPUTER', 'TERMINAL', 'SYSTEMS', 'ltCPML', 'COMPLETES', 'SALEn', 'Computer', 'Terminal', 'Systems', 'Inc', 'saidn', 'it', 'has', 'completed', 'the', 'sale', 'of', '200000', 'shares', 'of', 'its', 'commonn', 'stock', 'and', 'warrants', 'to', 'acquire', 'an', 'additional', 'one', 'mln', 'shares', 'ton', 'ltSedio', 'NV', 'of', 'Lugano', 'Switzerland', 'for', '50000', 'dlrsn', 'The', 'company', 'said', 'the', 'warrants', 'are', 'exercisable', 'for', 'fiven', 'years', 'at', 'a', 'purchase', 'price', 'of', '125', 'dlrs', 'per', 'sharen', 'Computer', 'Terminal', 'said', 'Sedio', 'also', 'has', 'the', 'right', 'to', 'buyn', 'additional', 'shares', 'and', 'increase', 'its', 'total', 'holdings', 'up', 'to', '40', 'pctn', 'of', 'the', 'Computer', 'Terminals', 'outstanding', 'common', 'stock', 'undern', 'certain', 'circumstances', 'involving', 'change', 'of', 'control', 'at', 'then', 'companyn', 'The', 'company', 'said', 'if', 'the', 'conditions', 'occur', 'the', 'warrants', 'wouldn', 'be', 'exercisable', 'at', 'a', 'price', 'equal', 'to', '75', 'pct', 'of', 'its', 'common', 'stocksn', 'market', 'price', 'at', 'the', 'time', 'not', 'to', 'exceed', '150', 'dlrs', 'per', 'sharen', 'Computer', 'Terminal', 'also', 'said', 'it', 'sold', 'the', 'technolgy', 'rights', 'ton', 'its', 'Dot', 'Matrix', 'impact', 'technology', 'including', 'any', 'futuren', 'improvements', 'to', 'ltWoodco', 'Inc', 'of', 'Houston', 'Tex', 'for', '200000n', 'dlrs', 'But', 'it', 'said', 'it', 'would', 'continue', 'to', 'be', 'the', 'exclusiven', 'worldwide', 'licensee', 'of', 'the', 'technology', 'for', 'Woodcon', 'The', 'company', 'said', 'the', 'moves', 'were', 'part', 'of', 'its', 'reorganizationn', 'plan', 'and', 'would', 'help', 'pay', 'current', 'operation', 'costs', 'and', 'ensuren', 'product', 'deliveryn', 'Computer', 'Terminal', 'makes', 'computer', 'generated', 'labels', 'formsn', 'tags', 'and', 'ticket', 'printers', 'and', 'terminalsn', 'nn', 'NATIONAL', 'AVERAGE', 'PRICES', 'FOR', 'FARMEROWNED', 'RESERVEn', 'The', 'US', 'Agriculture', 'Departmentn', 'reported', 'the', 'farmerowned', 'reserve', 'national', 'fiveday', 'averagen', 'price', 'through', 'February', '25', 'as', 'follows', 'DlrsBuSorghum', 'Cwt', 'n', 'Natl', 'Loan', 'Release', 'Calln', 'Avge', 'RateX', 'Level', 'Price', 'Pricen', 'Wheat', '255', '240', 'IV', '465', 'n', 'V', '465', 'n', 'VI', '445', 'n', 'Corn', '135', '192', 'IV', '315', '315n', 'V', '325', 'n', 'X', '', '1986', 'Ratesn', 'n', 'Natl', 'Loan', 'Release', 'Calln', 'Avge', 'RateX', 'Level', 'Price', 'Pricen', 'Oats', '124', '099', 'V', '165', '', 'n', 'Barley', 'na', '', '156', 'IV', '255', '255n', 'V', '265', '', 'n', 'Sorghum', '234', '325Y', 'IV', '536', '536n', 'V', '554', '', 'n', 'Reserves', 'I', 'II', 'and', 'III', 'have', 'matured', 'Level', 'IV', 'reflectsn', 'grain', 'entered', 'after', 'Oct', '6', '1981', 'for', 'feedgrain', 'and', 'after', 'Julyn', '23', '1981', 'for', 'wheat', 'Level', 'V', 'wheatbarley', 'after', '51482n', 'cornsorghum', 'after', '7182', 'Level', 'VI', 'covers', 'wheat', 'entered', 'aftern', 'January', '19', '1984', '', 'X1986', 'rates', 'Ydlrs', 'per', 'CWT', '100', 'lbsn', 'nanot', 'availablen', 'nn', 'ARGENTINE', '198687', 'GRAINOILSEED', 'REGISTRATIONSn', 'Argentine', 'grain', 'board', 'figures', 'shown', 'crop', 'registrations', 'of', 'grains', 'oilseeds', 'and', 'their', 'products', 'ton', 'February', '11', 'in', 'thousands', 'of', 'tonnes', 'showing', 'those', 'for', 'futurEn', 'shipments', 'month', '198687', 'total', 'and', '198586', 'total', 'to', 'Februaryn', '12', '1986', 'in', 'bracketsn', 'Bread', 'wheat', 'prev', '16558', 'Feb', '8720', 'March', '1646', 'totaln', '26924', '41610n', 'Maize', 'Mar', '480', 'total', '480', 'niln', 'Sorghum', 'nil', 'niln', 'Oilseed', 'export', 'registrations', 'weren', 'Sunflowerseed', 'total', '150', '79n', 'Soybean', 'May', '200', 'total', '200', 'niln', 'The', 'board', 'also', 'detailed', 'export', 'registrations', 'forn', 'subproducts', 'as', 'followsn', 'SUBPRODUCTSn', 'Wheat', 'prev', '399', 'Feb', '487', 'March', '132', 'Apr', '100', 'totaln', '1118', '827', 'n', 'Linseed', 'prev', '348', 'Feb', '329', 'Mar', '68', 'Apr', '63', 'total', '808n', '874n', 'Soybean', 'prev', '1009', 'Feb', '451', 'MAr', 'nil', 'Apr', 'nil', 'May', '200n', 'total', '1661', '2185n', 'Sunflowerseed', 'prev', '486', 'Feb', '615', 'Mar', '251', 'Apr', '145n', 'total', '1498', '1453n', 'Vegetable', 'oil', 'registrations', 'were', '', 'n', 'Sunoil', 'prev', '374', 'Feb', '1073', 'Mar', '245', 'Apr', '32', 'May', 'niln', 'Jun', '100', 'total', '1824', '1176', '', 'n', 'Linoil', 'prev', '159', 'Feb', '236', 'Mar', '204', 'Apr', '20', 'total', '618n', '761', '', 'n', 'Soybean', 'oil', 'prev', '37', 'Feb', '211', 'Mar', 'nil', 'Apr', '20', 'May', '90n', 'Jun', '130', 'Jul', '70', 'total', '558', '337', '', 'REUTERn', 'nn', 'CHAMPION', 'PRODUCTS', 'ltCH', 'APPROVES', 'STOCK', 'SPLITn', 'Champion', 'Products', 'Inc', 'said', 'itsn', 'board', 'of', 'directors', 'approved', 'a', 'twoforone', 'stock', 'split', 'of', 'itsn', 'common', 'shares', 'for', 'shareholders', 'of', 'record', 'as', 'of', 'April', '1', '1987n', 'The', 'company', 'also', 'said', 'its', 'board', 'voted', 'to', 'recommend', 'ton', 'shareholders', 'at', 'the', 'annual', 'meeting', 'April', '23', 'an', 'increase', 'in', 'then', 'authorized', 'capital', 'stock', 'from', 'five', 'mln', 'to', '25', 'mln', 'sharesn', 'nn']\n",
      "\n"
     ]
    }
   ],
   "source": [
    "def wordtokenization():\n",
    "    wordtokens = sentences_tokenization()\n",
    "    wordtokens = str(wordtokens)\n",
    "    wordtoken = wordtokens.split()\n",
    "    table = str.maketrans('', '', string.punctuation)\n",
    "    stripped = [w.translate(table) for w in wordtoken]\n",
    "    return stripped\n",
    "\n",
    "\n",
    "print(wordtokenization(), sep='\\n\\n')\n",
    "print()"
   ]
  },
  {
   "cell_type": "markdown",
   "metadata": {},
   "source": [
    "2.\tBuild module for Porter Stemmer to do stemming."
   ]
  },
  {
   "cell_type": "code",
   "execution_count": 21,
   "metadata": {},
   "outputs": [],
   "source": [
    "def PotterStemmer():\n",
    "    list = []\n",
    "    N_Words = wordtokenization()\n",
    "\n",
    "    for w in N_Words:\n",
    "\n",
    "        if w.endswith('sses'):\n",
    "            nw = w.replace('sses', 'ss')\n",
    "            list.append(nw)\n",
    "\n",
    "        elif w.endswith('ies'):\n",
    "            nw = w.replace('ies', 'i')\n",
    "            list.append(nw)\n",
    "\n",
    "        elif w.endswith('ss'):\n",
    "            nw = w.replace('ss', 'ss')\n",
    "            list.append(nw)\n",
    "\n",
    "        elif w.endswith('ational'):\n",
    "            nw = w.replace('ational', 'ate')\n",
    "            list.append(nw)\n",
    "\n",
    "        elif w.endswith('ement'):\n",
    "            if w == 'cement':\n",
    "                nw = w.replace('ement', 'ement')\n",
    "                list.append(nw)\n",
    "            else:\n",
    "                nw = w.replace('ement', '')\n",
    "                list.append(nw)\n",
    "\n",
    "        elif w.endswith('ment'):\n",
    "            nw = w.replace('ment', '')\n",
    "            list.append(nw)\n",
    "\n",
    "        else:\n",
    "            list.append(w)\n",
    "\n",
    "    return list"
   ]
  },
  {
   "cell_type": "code",
   "execution_count": 22,
   "metadata": {},
   "outputs": [
    {
     "name": "stdout",
     "output_type": "stream",
     "text": [
      "['BAHIA', 'COCOA', 'REVIEWn', 'Showers', 'continued', 'throughout', 'the', 'week', 'inn', 'the', 'Bahia', 'cocoa', 'zone', 'alleviating', 'the', 'drought', 'since', 'earlyn', 'January', 'and', 'improving', 'prospects', 'for', 'the', 'coming', 'temporaon', 'although', 'normal', 'humidity', 'levels', 'have', 'not', 'been', 'restoredn', 'Comissaria', 'Smith', 'said', 'in', 'its', 'weekly', 'reviewn', 'The', 'dry', 'period', 'means', 'the', 'temporao', 'will', 'be', 'late', 'this', 'yearn', 'Arrivals', 'for', 'the', 'week', 'ended', 'February', '22', 'were', '155221', 'bagsn', 'of', '60', 'kilos', 'making', 'a', 'cumulative', 'total', 'for', 'the', 'season', 'of', '593n', 'mln', 'against', '581', 'at', 'the', 'same', 'stage', 'last', 'year', 'Again', 'it', 'seemsn', 'that', 'cocoa', 'delivered', 'earlier', 'on', 'consign', 'was', 'included', 'in', 'then', 'arrivals', 'figuresn', 'Comissaria', 'Smith', 'said', 'there', 'is', 'still', 'some', 'doubt', 'as', 'to', 'hown', 'much', 'old', 'crop', 'cocoa', 'is', 'still', 'available', 'as', 'harvesting', 'hasn', 'practically', 'come', 'to', 'an', 'end', 'With', 'total', 'Bahia', 'crop', 'estimatesn', 'around', '64', 'mln', 'bags', 'and', 'sales', 'standing', 'at', 'almost', '62', 'mln', 'theren', 'are', 'a', 'few', 'hundred', 'thousand', 'bags', 'still', 'in', 'the', 'hands', 'of', 'farmersn', 'middlemen', 'exporters', 'and', 'processorsn', 'There', 'are', 'doubts', 'as', 'to', 'how', 'much', 'of', 'this', 'cocoa', 'would', 'be', 'fitn', 'for', 'export', 'as', 'shippers', 'are', 'now', 'experiencing', 'dificulti', 'inn', 'obtaining', 'Bahia', 'superior', 'certificatesn', 'In', 'view', 'of', 'the', 'lower', 'quality', 'over', 'recent', 'weeks', 'farmers', 'haven', 'sold', 'a', 'good', 'part', 'of', 'their', 'cocoa', 'held', 'on', 'consignmentn', 'Comissaria', 'Smith', 'said', 'spot', 'bean', 'prices', 'rose', 'to', '340', 'to', '350n', 'cruzados', 'per', 'arroba', 'of', '15', 'kilosn', 'Bean', 'shippers', 'were', 'reluctant', 'to', 'offer', 'nearby', 'ship', 'andn', 'only', 'limited', 'sales', 'were', 'booked', 'for', 'March', 'ship', 'at', '1750', 'ton', '1780', 'dlrs', 'per', 'tonne', 'to', 'ports', 'to', 'be', 'namedn', 'New', 'crop', 'sales', 'were', 'also', 'light', 'and', 'all', 'to', 'open', 'ports', 'withn', 'JuneJuly', 'going', 'at', '1850', 'and', '1880', 'dlrs', 'and', 'at', '35', 'and', '45', 'dlrsn', 'under', 'New', 'York', 'july', 'AugSept', 'at', '1870', '1875', 'and', '1880', 'dlrsn', 'per', 'tonne', 'FOBn', 'Routine', 'sales', 'of', 'butter', 'were', 'made', 'MarchApril', 'sold', 'atn', '4340', '4345', 'and', '4350', 'dlrsn', 'AprilMay', 'butter', 'went', 'at', '227', 'times', 'New', 'York', 'May', 'JuneJulyn', 'at', '4400', 'and', '4415', 'dlrs', 'AugSept', 'at', '4351', 'to', '4450', 'dlrs', 'and', 'atn', '227', 'and', '228', 'times', 'New', 'York', 'Sept', 'and', 'OctDec', 'at', '4480', 'dlrs', 'andn', '227', 'times', 'New', 'York', 'Dec', 'Comissaria', 'Smith', 'saidn', 'Destinations', 'were', 'the', 'US', 'Covertible', 'currency', 'areasn', 'Uruguay', 'and', 'open', 'portsn', 'Cake', 'sales', 'were', 'registered', 'at', '785', 'to', '995', 'dlrs', 'forn', 'MarchApril', '785', 'dlrs', 'for', 'May', '753', 'dlrs', 'for', 'Aug', 'and', '039', 'timesn', 'New', 'York', 'Dec', 'for', 'OctDecn', 'Buyers', 'were', 'the', 'US', 'Argentina', 'Uruguay', 'and', 'convertiblen', 'currency', 'areasn', 'Liquor', 'sales', 'were', 'limited', 'with', 'MarchApril', 'selling', 'at', '2325n', 'and', '2380', 'dlrs', 'JuneJuly', 'at', '2375', 'dlrs', 'and', 'at', '125', 'times', 'Newn', 'York', 'July', 'AugSept', 'at', '2400', 'dlrs', 'and', 'at', '125', 'times', 'New', 'Yorkn', 'Sept', 'and', 'OctDec', 'at', '125', 'times', 'New', 'York', 'Dec', 'Comissaria', 'Smithn', 'saidn', 'Total', 'Bahia', 'sales', 'are', 'currently', 'estimated', 'at', '613', 'mln', 'bagsn', 'against', 'the', '198687', 'crop', 'and', '106', 'mln', 'bags', 'against', 'the', '198788n', 'cropn', 'Final', 'figures', 'for', 'the', 'period', 'to', 'February', '28', 'are', 'expected', 'ton', 'be', 'published', 'by', 'the', 'Brazilian', 'Cocoa', 'Trade', 'Commission', 'aftern', 'carnival', 'which', 'ends', 'midday', 'on', 'February', '27n', 'nn', 'COMPUTER', 'TERMINAL', 'SYSTEMS', 'ltCPML', 'COMPLETES', 'SALEn', 'Computer', 'Terminal', 'Systems', 'Inc', 'saidn', 'it', 'has', 'completed', 'the', 'sale', 'of', '200000', 'shares', 'of', 'its', 'commonn', 'stock', 'and', 'warrants', 'to', 'acquire', 'an', 'additional', 'one', 'mln', 'shares', 'ton', 'ltSedio', 'NV', 'of', 'Lugano', 'Switzerland', 'for', '50000', 'dlrsn', 'The', 'company', 'said', 'the', 'warrants', 'are', 'exercisable', 'for', 'fiven', 'years', 'at', 'a', 'purchase', 'price', 'of', '125', 'dlrs', 'per', 'sharen', 'Computer', 'Terminal', 'said', 'Sedio', 'also', 'has', 'the', 'right', 'to', 'buyn', 'additional', 'shares', 'and', 'increase', 'its', 'total', 'holdings', 'up', 'to', '40', 'pctn', 'of', 'the', 'Computer', 'Terminals', 'outstanding', 'common', 'stock', 'undern', 'certain', 'circumstances', 'involving', 'change', 'of', 'control', 'at', 'then', 'companyn', 'The', 'company', 'said', 'if', 'the', 'conditions', 'occur', 'the', 'warrants', 'wouldn', 'be', 'exercisable', 'at', 'a', 'price', 'equal', 'to', '75', 'pct', 'of', 'its', 'common', 'stocksn', 'market', 'price', 'at', 'the', 'time', 'not', 'to', 'exceed', '150', 'dlrs', 'per', 'sharen', 'Computer', 'Terminal', 'also', 'said', 'it', 'sold', 'the', 'technolgy', 'rights', 'ton', 'its', 'Dot', 'Matrix', 'impact', 'technology', 'including', 'any', 'futuren', 'improvements', 'to', 'ltWoodco', 'Inc', 'of', 'Houston', 'Tex', 'for', '200000n', 'dlrs', 'But', 'it', 'said', 'it', 'would', 'continue', 'to', 'be', 'the', 'exclusiven', 'worldwide', 'licensee', 'of', 'the', 'technology', 'for', 'Woodcon', 'The', 'company', 'said', 'the', 'moves', 'were', 'part', 'of', 'its', 'reorganizationn', 'plan', 'and', 'would', 'help', 'pay', 'current', 'operation', 'costs', 'and', 'ensuren', 'product', 'deliveryn', 'Computer', 'Terminal', 'makes', 'computer', 'generated', 'labels', 'formsn', 'tags', 'and', 'ticket', 'printers', 'and', 'terminalsn', 'nn', 'NATIONAL', 'AVERAGE', 'PRICES', 'FOR', 'FARMEROWNED', 'RESERVEn', 'The', 'US', 'Agriculture', 'Departmentn', 'reported', 'the', 'farmerowned', 'reserve', 'nate', 'fiveday', 'averagen', 'price', 'through', 'February', '25', 'as', 'follows', 'DlrsBuSorghum', 'Cwt', 'n', 'Natl', 'Loan', 'Release', 'Calln', 'Avge', 'RateX', 'Level', 'Price', 'Pricen', 'Wheat', '255', '240', 'IV', '465', 'n', 'V', '465', 'n', 'VI', '445', 'n', 'Corn', '135', '192', 'IV', '315', '315n', 'V', '325', 'n', 'X', '', '1986', 'Ratesn', 'n', 'Natl', 'Loan', 'Release', 'Calln', 'Avge', 'RateX', 'Level', 'Price', 'Pricen', 'Oats', '124', '099', 'V', '165', '', 'n', 'Barley', 'na', '', '156', 'IV', '255', '255n', 'V', '265', '', 'n', 'Sorghum', '234', '325Y', 'IV', '536', '536n', 'V', '554', '', 'n', 'Reserves', 'I', 'II', 'and', 'III', 'have', 'matured', 'Level', 'IV', 'reflectsn', 'grain', 'entered', 'after', 'Oct', '6', '1981', 'for', 'feedgrain', 'and', 'after', 'Julyn', '23', '1981', 'for', 'wheat', 'Level', 'V', 'wheatbarley', 'after', '51482n', 'cornsorghum', 'after', '7182', 'Level', 'VI', 'covers', 'wheat', 'entered', 'aftern', 'January', '19', '1984', '', 'X1986', 'rates', 'Ydlrs', 'per', 'CWT', '100', 'lbsn', 'nanot', 'availablen', 'nn', 'ARGENTINE', '198687', 'GRAINOILSEED', 'REGISTRATIONSn', 'Argentine', 'grain', 'board', 'figures', 'shown', 'crop', 'registrations', 'of', 'grains', 'oilseeds', 'and', 'their', 'products', 'ton', 'February', '11', 'in', 'thousands', 'of', 'tonnes', 'showing', 'those', 'for', 'futurEn', 'shipments', 'month', '198687', 'total', 'and', '198586', 'total', 'to', 'Februaryn', '12', '1986', 'in', 'bracketsn', 'Bread', 'wheat', 'prev', '16558', 'Feb', '8720', 'March', '1646', 'totaln', '26924', '41610n', 'Maize', 'Mar', '480', 'total', '480', 'niln', 'Sorghum', 'nil', 'niln', 'Oilseed', 'export', 'registrations', 'weren', 'Sunflowerseed', 'total', '150', '79n', 'Soybean', 'May', '200', 'total', '200', 'niln', 'The', 'board', 'also', 'detailed', 'export', 'registrations', 'forn', 'subproducts', 'as', 'followsn', 'SUBPRODUCTSn', 'Wheat', 'prev', '399', 'Feb', '487', 'March', '132', 'Apr', '100', 'totaln', '1118', '827', 'n', 'Linseed', 'prev', '348', 'Feb', '329', 'Mar', '68', 'Apr', '63', 'total', '808n', '874n', 'Soybean', 'prev', '1009', 'Feb', '451', 'MAr', 'nil', 'Apr', 'nil', 'May', '200n', 'total', '1661', '2185n', 'Sunflowerseed', 'prev', '486', 'Feb', '615', 'Mar', '251', 'Apr', '145n', 'total', '1498', '1453n', 'Vegetable', 'oil', 'registrations', 'were', '', 'n', 'Sunoil', 'prev', '374', 'Feb', '1073', 'Mar', '245', 'Apr', '32', 'May', 'niln', 'Jun', '100', 'total', '1824', '1176', '', 'n', 'Linoil', 'prev', '159', 'Feb', '236', 'Mar', '204', 'Apr', '20', 'total', '618n', '761', '', 'n', 'Soybean', 'oil', 'prev', '37', 'Feb', '211', 'Mar', 'nil', 'Apr', '20', 'May', '90n', 'Jun', '130', 'Jul', '70', 'total', '558', '337', '', 'REUTERn', 'nn', 'CHAMPION', 'PRODUCTS', 'ltCH', 'APPROVES', 'STOCK', 'SPLITn', 'Champion', 'Products', 'Inc', 'said', 'itsn', 'board', 'of', 'directors', 'approved', 'a', 'twoforone', 'stock', 'split', 'of', 'itsn', 'common', 'shares', 'for', 'shareholders', 'of', 'record', 'as', 'of', 'April', '1', '1987n', 'The', 'company', 'also', 'said', 'its', 'board', 'voted', 'to', 'recommend', 'ton', 'shareholders', 'at', 'the', 'annual', 'meeting', 'April', '23', 'an', 'increase', 'in', 'then', 'authorized', 'capital', 'stock', 'from', 'five', 'mln', 'to', '25', 'mln', 'sharesn', 'nn']\n",
      "\n"
     ]
    }
   ],
   "source": [
    "print(PotterStemmer())\n",
    "print()"
   ]
  },
  {
   "cell_type": "markdown",
   "metadata": {},
   "source": [
    "3.\tBuild module to apply case folding i.e. convert words to lower case. "
   ]
  },
  {
   "cell_type": "code",
   "execution_count": 25,
   "metadata": {},
   "outputs": [],
   "source": [
    "def caseFolding():\n",
    "    StemmeredWord = PotterStemmer()\n",
    "    StemmeredWord = str(StemmeredWord)\n",
    "    convertedWord = StemmeredWord.lower()\n",
    "    return convertedWord"
   ]
  },
  {
   "cell_type": "code",
   "execution_count": 26,
   "metadata": {},
   "outputs": [
    {
     "data": {
      "text/plain": [
       "\"['bahia', 'cocoa', 'reviewn', 'showers', 'continued', 'throughout', 'the', 'week', 'inn', 'the', 'bahia', 'cocoa', 'zone', 'alleviating', 'the', 'drought', 'since', 'earlyn', 'january', 'and', 'improving', 'prospects', 'for', 'the', 'coming', 'temporaon', 'although', 'normal', 'humidity', 'levels', 'have', 'not', 'been', 'restoredn', 'comissaria', 'smith', 'said', 'in', 'its', 'weekly', 'reviewn', 'the', 'dry', 'period', 'means', 'the', 'temporao', 'will', 'be', 'late', 'this', 'yearn', 'arrivals', 'for', 'the', 'week', 'ended', 'february', '22', 'were', '155221', 'bagsn', 'of', '60', 'kilos', 'making', 'a', 'cumulative', 'total', 'for', 'the', 'season', 'of', '593n', 'mln', 'against', '581', 'at', 'the', 'same', 'stage', 'last', 'year', 'again', 'it', 'seemsn', 'that', 'cocoa', 'delivered', 'earlier', 'on', 'consign', 'was', 'included', 'in', 'then', 'arrivals', 'figuresn', 'comissaria', 'smith', 'said', 'there', 'is', 'still', 'some', 'doubt', 'as', 'to', 'hown', 'much', 'old', 'crop', 'cocoa', 'is', 'still', 'available', 'as', 'harvesting', 'hasn', 'practically', 'come', 'to', 'an', 'end', 'with', 'total', 'bahia', 'crop', 'estimatesn', 'around', '64', 'mln', 'bags', 'and', 'sales', 'standing', 'at', 'almost', '62', 'mln', 'theren', 'are', 'a', 'few', 'hundred', 'thousand', 'bags', 'still', 'in', 'the', 'hands', 'of', 'farmersn', 'middlemen', 'exporters', 'and', 'processorsn', 'there', 'are', 'doubts', 'as', 'to', 'how', 'much', 'of', 'this', 'cocoa', 'would', 'be', 'fitn', 'for', 'export', 'as', 'shippers', 'are', 'now', 'experiencing', 'dificulti', 'inn', 'obtaining', 'bahia', 'superior', 'certificatesn', 'in', 'view', 'of', 'the', 'lower', 'quality', 'over', 'recent', 'weeks', 'farmers', 'haven', 'sold', 'a', 'good', 'part', 'of', 'their', 'cocoa', 'held', 'on', 'consignmentn', 'comissaria', 'smith', 'said', 'spot', 'bean', 'prices', 'rose', 'to', '340', 'to', '350n', 'cruzados', 'per', 'arroba', 'of', '15', 'kilosn', 'bean', 'shippers', 'were', 'reluctant', 'to', 'offer', 'nearby', 'ship', 'andn', 'only', 'limited', 'sales', 'were', 'booked', 'for', 'march', 'ship', 'at', '1750', 'ton', '1780', 'dlrs', 'per', 'tonne', 'to', 'ports', 'to', 'be', 'namedn', 'new', 'crop', 'sales', 'were', 'also', 'light', 'and', 'all', 'to', 'open', 'ports', 'withn', 'junejuly', 'going', 'at', '1850', 'and', '1880', 'dlrs', 'and', 'at', '35', 'and', '45', 'dlrsn', 'under', 'new', 'york', 'july', 'augsept', 'at', '1870', '1875', 'and', '1880', 'dlrsn', 'per', 'tonne', 'fobn', 'routine', 'sales', 'of', 'butter', 'were', 'made', 'marchapril', 'sold', 'atn', '4340', '4345', 'and', '4350', 'dlrsn', 'aprilmay', 'butter', 'went', 'at', '227', 'times', 'new', 'york', 'may', 'junejulyn', 'at', '4400', 'and', '4415', 'dlrs', 'augsept', 'at', '4351', 'to', '4450', 'dlrs', 'and', 'atn', '227', 'and', '228', 'times', 'new', 'york', 'sept', 'and', 'octdec', 'at', '4480', 'dlrs', 'andn', '227', 'times', 'new', 'york', 'dec', 'comissaria', 'smith', 'saidn', 'destinations', 'were', 'the', 'us', 'covertible', 'currency', 'areasn', 'uruguay', 'and', 'open', 'portsn', 'cake', 'sales', 'were', 'registered', 'at', '785', 'to', '995', 'dlrs', 'forn', 'marchapril', '785', 'dlrs', 'for', 'may', '753', 'dlrs', 'for', 'aug', 'and', '039', 'timesn', 'new', 'york', 'dec', 'for', 'octdecn', 'buyers', 'were', 'the', 'us', 'argentina', 'uruguay', 'and', 'convertiblen', 'currency', 'areasn', 'liquor', 'sales', 'were', 'limited', 'with', 'marchapril', 'selling', 'at', '2325n', 'and', '2380', 'dlrs', 'junejuly', 'at', '2375', 'dlrs', 'and', 'at', '125', 'times', 'newn', 'york', 'july', 'augsept', 'at', '2400', 'dlrs', 'and', 'at', '125', 'times', 'new', 'yorkn', 'sept', 'and', 'octdec', 'at', '125', 'times', 'new', 'york', 'dec', 'comissaria', 'smithn', 'saidn', 'total', 'bahia', 'sales', 'are', 'currently', 'estimated', 'at', '613', 'mln', 'bagsn', 'against', 'the', '198687', 'crop', 'and', '106', 'mln', 'bags', 'against', 'the', '198788n', 'cropn', 'final', 'figures', 'for', 'the', 'period', 'to', 'february', '28', 'are', 'expected', 'ton', 'be', 'published', 'by', 'the', 'brazilian', 'cocoa', 'trade', 'commission', 'aftern', 'carnival', 'which', 'ends', 'midday', 'on', 'february', '27n', 'nn', 'computer', 'terminal', 'systems', 'ltcpml', 'completes', 'salen', 'computer', 'terminal', 'systems', 'inc', 'saidn', 'it', 'has', 'completed', 'the', 'sale', 'of', '200000', 'shares', 'of', 'its', 'commonn', 'stock', 'and', 'warrants', 'to', 'acquire', 'an', 'additional', 'one', 'mln', 'shares', 'ton', 'ltsedio', 'nv', 'of', 'lugano', 'switzerland', 'for', '50000', 'dlrsn', 'the', 'company', 'said', 'the', 'warrants', 'are', 'exercisable', 'for', 'fiven', 'years', 'at', 'a', 'purchase', 'price', 'of', '125', 'dlrs', 'per', 'sharen', 'computer', 'terminal', 'said', 'sedio', 'also', 'has', 'the', 'right', 'to', 'buyn', 'additional', 'shares', 'and', 'increase', 'its', 'total', 'holdings', 'up', 'to', '40', 'pctn', 'of', 'the', 'computer', 'terminals', 'outstanding', 'common', 'stock', 'undern', 'certain', 'circumstances', 'involving', 'change', 'of', 'control', 'at', 'then', 'companyn', 'the', 'company', 'said', 'if', 'the', 'conditions', 'occur', 'the', 'warrants', 'wouldn', 'be', 'exercisable', 'at', 'a', 'price', 'equal', 'to', '75', 'pct', 'of', 'its', 'common', 'stocksn', 'market', 'price', 'at', 'the', 'time', 'not', 'to', 'exceed', '150', 'dlrs', 'per', 'sharen', 'computer', 'terminal', 'also', 'said', 'it', 'sold', 'the', 'technolgy', 'rights', 'ton', 'its', 'dot', 'matrix', 'impact', 'technology', 'including', 'any', 'futuren', 'improvements', 'to', 'ltwoodco', 'inc', 'of', 'houston', 'tex', 'for', '200000n', 'dlrs', 'but', 'it', 'said', 'it', 'would', 'continue', 'to', 'be', 'the', 'exclusiven', 'worldwide', 'licensee', 'of', 'the', 'technology', 'for', 'woodcon', 'the', 'company', 'said', 'the', 'moves', 'were', 'part', 'of', 'its', 'reorganizationn', 'plan', 'and', 'would', 'help', 'pay', 'current', 'operation', 'costs', 'and', 'ensuren', 'product', 'deliveryn', 'computer', 'terminal', 'makes', 'computer', 'generated', 'labels', 'formsn', 'tags', 'and', 'ticket', 'printers', 'and', 'terminalsn', 'nn', 'national', 'average', 'prices', 'for', 'farmerowned', 'reserven', 'the', 'us', 'agriculture', 'departmentn', 'reported', 'the', 'farmerowned', 'reserve', 'nate', 'fiveday', 'averagen', 'price', 'through', 'february', '25', 'as', 'follows', 'dlrsbusorghum', 'cwt', 'n', 'natl', 'loan', 'release', 'calln', 'avge', 'ratex', 'level', 'price', 'pricen', 'wheat', '255', '240', 'iv', '465', 'n', 'v', '465', 'n', 'vi', '445', 'n', 'corn', '135', '192', 'iv', '315', '315n', 'v', '325', 'n', 'x', '', '1986', 'ratesn', 'n', 'natl', 'loan', 'release', 'calln', 'avge', 'ratex', 'level', 'price', 'pricen', 'oats', '124', '099', 'v', '165', '', 'n', 'barley', 'na', '', '156', 'iv', '255', '255n', 'v', '265', '', 'n', 'sorghum', '234', '325y', 'iv', '536', '536n', 'v', '554', '', 'n', 'reserves', 'i', 'ii', 'and', 'iii', 'have', 'matured', 'level', 'iv', 'reflectsn', 'grain', 'entered', 'after', 'oct', '6', '1981', 'for', 'feedgrain', 'and', 'after', 'julyn', '23', '1981', 'for', 'wheat', 'level', 'v', 'wheatbarley', 'after', '51482n', 'cornsorghum', 'after', '7182', 'level', 'vi', 'covers', 'wheat', 'entered', 'aftern', 'january', '19', '1984', '', 'x1986', 'rates', 'ydlrs', 'per', 'cwt', '100', 'lbsn', 'nanot', 'availablen', 'nn', 'argentine', '198687', 'grainoilseed', 'registrationsn', 'argentine', 'grain', 'board', 'figures', 'shown', 'crop', 'registrations', 'of', 'grains', 'oilseeds', 'and', 'their', 'products', 'ton', 'february', '11', 'in', 'thousands', 'of', 'tonnes', 'showing', 'those', 'for', 'futuren', 'shipments', 'month', '198687', 'total', 'and', '198586', 'total', 'to', 'februaryn', '12', '1986', 'in', 'bracketsn', 'bread', 'wheat', 'prev', '16558', 'feb', '8720', 'march', '1646', 'totaln', '26924', '41610n', 'maize', 'mar', '480', 'total', '480', 'niln', 'sorghum', 'nil', 'niln', 'oilseed', 'export', 'registrations', 'weren', 'sunflowerseed', 'total', '150', '79n', 'soybean', 'may', '200', 'total', '200', 'niln', 'the', 'board', 'also', 'detailed', 'export', 'registrations', 'forn', 'subproducts', 'as', 'followsn', 'subproductsn', 'wheat', 'prev', '399', 'feb', '487', 'march', '132', 'apr', '100', 'totaln', '1118', '827', 'n', 'linseed', 'prev', '348', 'feb', '329', 'mar', '68', 'apr', '63', 'total', '808n', '874n', 'soybean', 'prev', '1009', 'feb', '451', 'mar', 'nil', 'apr', 'nil', 'may', '200n', 'total', '1661', '2185n', 'sunflowerseed', 'prev', '486', 'feb', '615', 'mar', '251', 'apr', '145n', 'total', '1498', '1453n', 'vegetable', 'oil', 'registrations', 'were', '', 'n', 'sunoil', 'prev', '374', 'feb', '1073', 'mar', '245', 'apr', '32', 'may', 'niln', 'jun', '100', 'total', '1824', '1176', '', 'n', 'linoil', 'prev', '159', 'feb', '236', 'mar', '204', 'apr', '20', 'total', '618n', '761', '', 'n', 'soybean', 'oil', 'prev', '37', 'feb', '211', 'mar', 'nil', 'apr', '20', 'may', '90n', 'jun', '130', 'jul', '70', 'total', '558', '337', '', 'reutern', 'nn', 'champion', 'products', 'ltch', 'approves', 'stock', 'splitn', 'champion', 'products', 'inc', 'said', 'itsn', 'board', 'of', 'directors', 'approved', 'a', 'twoforone', 'stock', 'split', 'of', 'itsn', 'common', 'shares', 'for', 'shareholders', 'of', 'record', 'as', 'of', 'april', '1', '1987n', 'the', 'company', 'also', 'said', 'its', 'board', 'voted', 'to', 'recommend', 'ton', 'shareholders', 'at', 'the', 'annual', 'meeting', 'april', '23', 'an', 'increase', 'in', 'then', 'authorized', 'capital', 'stock', 'from', 'five', 'mln', 'to', '25', 'mln', 'sharesn', 'nn']\""
      ]
     },
     "execution_count": 26,
     "metadata": {},
     "output_type": "execute_result"
    }
   ],
   "source": [
    "caseFolding()"
   ]
  },
  {
   "cell_type": "markdown",
   "metadata": {},
   "source": [
    "4.\tBuild inverted index and posting list as python dictionary."
   ]
  },
  {
   "cell_type": "code",
   "execution_count": 30,
   "metadata": {},
   "outputs": [],
   "source": [
    "def InvertedIndex():\n",
    "    wordsDict = {}\n",
    "\n",
    "    FileList1 = os.listdir(os.getcwd())\n",
    "    for A_File in FileList1:\n",
    "\n",
    "#access files\n",
    "        with open(A_File, 'r', encoding=\"utf8\") as f:\n",
    "            words = f.read().lower().split()\n",
    "\n",
    "#remove Special characters\n",
    "            for A_File in words:\n",
    "                if A_File[-1] in ['.', ',', '!', ';', ':']:\n",
    "                    A_File = A_File[-1]\n",
    "#add words if it's not there\n",
    "                if A_File not in wordsDict.keys():\n",
    "                    wordsDict[A_File] = [f.name]\n",
    "                else:\n",
    "                    if A_File not in wordsDict[A_File]:\n",
    "                        wordsDict[A_File] += [f.name]\n",
    "\n",
    "    return wordsDict"
   ]
  },
  {
   "cell_type": "code",
   "execution_count": 31,
   "metadata": {},
   "outputs": [
    {
     "name": "stdout",
     "output_type": "stream",
     "text": [
      "{'bahia': ['1', '1', '1', '1'], 'cocoa': ['1', '1', '1', '1', '1', '1', '1'], 'review': ['1'], 'showers': ['1'], 'continued': ['1'], 'throughout': ['1'], 'the': ['1', '1', '1', '1', '1', '1', '1', '1', '1', '1', '1', '1', '1', '1', '1', '1', '1', '1', '10', '10', '10', '10', '10', '10', '10', '10', '10', '10', '10', '10', '10', '10', '10', '5', '5', '6', '9', '9', '9'], 'week': ['1', '1'], 'in': ['1', '1', '1', '1', '1', '1', '6', '6', '9'], ',': ['1', '1', '1', '1', '1', '1', '1', '1', '1', '1', '1', '1', '1', '1', '1', '1', '1', '1', '1', '1', '10', '10', '10', '10', '10', '10', '10', '10', '10', '10', '5', '5', '5', '5', '5', '6', '6', '6', '6', '6', '6', '6', '6', '6', '6', '6', '6', '6', '6', '6', '6', '6', '6', '6', '6', '6', '6', '6', '6', '6', '6', '6', '6', '6', '6', '6', '6', '6', '6', '6', '6', '6', '6', '6', '6', '6', '6', '6', '6', '6', '6', '6', '6', '9'], 'alleviating': ['1'], 'drought': ['1'], 'since': ['1'], 'early': ['1'], 'january': ['1', '5'], 'and': ['1', '1', '1', '1', '1', '1', '1', '1', '1', '1', '1', '1', '1', '1', '1', '1', '1', '1', '1', '1', '1', '1', '1', '10', '10', '10', '10', '10', '10', '5', '5', '6', '6'], 'improving': ['1'], 'prospects': ['1'], 'for': ['1', '1', '1', '1', '1', '1', '1', '1', '1', '1', '10', '10', '10', '10', '5', '5', '5', '6', '6', '9'], 'coming': ['1'], 'although': ['1'], 'normal': ['1'], 'humidity': ['1'], 'levels': ['1'], 'have': ['1', '1', '5'], 'not': ['1', '10'], 'been': ['1'], 'comissaria': ['1', '1', '1', '1', '1'], 'smith': ['1', '1', '1', '1', '1'], 'said': ['1', '1', '1', '10', '10', '10', '10', '10', '10', '10', '9', '9'], 'its': ['1', '10', '10', '10', '10', '10', '9', '9', '9'], 'weekly': ['1'], '.': ['1', '1', '1', '1', '1', '1', '1', '1', '1', '1', '1', '1', '1', '1', '1', '1', '1', '1', '1', '1', '10', '10', '10', '10', '10', '10', '10', '10', '10', '5', '5', '5', '5', '5', '5', '5', '5', '5', '5', '6', '6', '6', '6', '6', '6', '6', '6', '6', '9', '9'], 'dry': ['1'], 'period': ['1', '1'], 'means': ['1'], 'temporao': ['1'], 'will': ['1'], 'be': ['1', '1', '1', '1', '10', '10'], 'late': ['1'], 'this': ['1', '1'], 'arrivals': ['1', '1'], 'ended': ['1'], 'february': ['1', '1', '1', '5', '6', '6'], '22': ['1'], 'were': ['1', '1', '1', '1', '1', '1', '1', '1', '1', '10', '6'], '155,221': ['1'], 'bags': ['1', '1', '1', '1', '1'], 'of': ['1', '1', '1', '1', '1', '1', '1', '1', '10', '10', '10', '10', '10', '10', '10', '10', '10', '10', '6', '6', '9', '9', '9', '9'], '60': ['1'], 'kilos': ['1'], 'making': ['1'], 'a': ['1', '1', '1', '10', '10', '9'], 'cumulative': ['1'], 'total': ['1', '1', '1', '10', '6', '6', '6', '6', '6', '6', '6', '6', '6', '6', '6', '6', '6'], 'season': ['1'], '5.93': ['1'], 'mln': ['1', '1', '1', '1', '1', '10', '9', '9'], 'against': ['1', '1', '1'], '5.81': ['1'], 'at': ['1', '1', '1', '1', '1', '1', '1', '1', '1', '1', '1', '1', '1', '1', '1', '1', '1', '1', '1', '1', '10', '10', '10', '10', '9'], 'same': ['1'], 'stage': ['1'], 'last': ['1'], 'again': ['1'], 'it': ['1', '10', '10', '10', '10'], 'seems': ['1'], 'that': ['1'], 'delivered': ['1'], 'earlier': ['1'], 'on': ['1', '1', '1'], 'consignment': ['1'], 'was': ['1'], 'included': ['1'], 'there': ['1', '1', '1'], 'is': ['1', '1'], 'still': ['1', '1', '1'], 'some': ['1'], 'doubt': ['1'], 'as': ['1', '1', '1', '1', '5', '6', '9'], 'to': ['1', '1', '1', '1', '1', '1', '1', '1', '1', '1', '1', '1', '1', '1', '10', '10', '10', '10', '10', '10', '10', '10', '10', '6', '6', '9', '9', '9'], 'how': ['1', '1'], 'much': ['1', '1'], 'old': ['1'], 'crop': ['1', '1', '1', '1', '6'], 'available': ['1'], 'harvesting': ['1'], 'has': ['1', '10', '10'], 'practically': ['1'], 'come': ['1'], 'an': ['1', '10', '9'], 'with': ['1', '1', '1'], 'estimates': ['1'], 'around': ['1'], '6.4': ['1'], 'sales': ['1', '1', '1', '1', '1', '1', '1'], 'standing': ['1'], 'almost': ['1'], '6.2': ['1'], 'are': ['1', '1', '1', '1', '1', '10'], 'few': ['1'], 'hundred': ['1'], 'thousand': ['1'], 'hands': ['1'], 'exporters': ['1'], 'doubts': ['1'], 'would': ['1', '10', '10', '10'], 'fit': ['1'], 'export': ['1', '6', '6'], 'shippers': ['1', '1'], 'now': ['1'], 'experiencing': ['1'], 'dificulties': ['1'], 'obtaining': ['1'], '+bahia': ['1'], 'superior+': ['1'], 'view': ['1'], 'lower': ['1'], 'quality': ['1'], 'over': ['1'], 'recent': ['1'], 'weeks': ['1'], 'farmers': ['1'], 'sold': ['1', '1', '10'], 'good': ['1'], 'part': ['1', '10'], 'their': ['1', '6'], 'held': ['1'], 'spot': ['1'], 'bean': ['1', '1'], 'prices': ['1', '5'], 'rose': ['1'], '340': ['1'], '350': ['1'], 'cruzados': ['1'], 'per': ['1', '1', '1', '10', '10', '5'], 'arroba': ['1'], '15': ['1'], 'reluctant': ['1'], 'offer': ['1'], 'nearby': ['1'], 'shipment': ['1', '1'], 'only': ['1'], 'limited': ['1', '1'], 'booked': ['1'], 'march': ['1', '6', '6'], '1,750': ['1'], '1,780': ['1'], 'dlrs': ['1', '1', '1', '1', '1', '1', '1', '1', '1', '1', '1', '10', '10'], 'tonne': ['1', '1'], 'ports': ['1', '1'], 'new': ['1', '1', '1', '1', '1', '1', '1', '1', '1'], 'also': ['1', '10', '10', '6', '9'], 'light': ['1'], 'all': ['1'], 'open': ['1', '1'], 'june/july': ['1', '1', '1'], 'going': ['1'], '1,850': ['1'], '1,880': ['1', '1'], '35': ['1'], '45': ['1'], 'under': ['1', '10'], 'york': ['1', '1', '1', '1', '1', '1', '1', '1'], 'aug/sept': ['1', '1', '1'], '1,875': ['1'], 'routine': ['1'], 'butter': ['1', '1'], 'march/april': ['1', '1'], '4,345': ['1'], '4,350': ['1'], 'april/may': ['1'], 'went': ['1'], '2.27': ['1', '1', '1'], 'times': ['1', '1', '1', '1', '1', '1', '1'], '4,400': ['1'], '4,415': ['1'], '4,351': ['1'], '4,450': ['1'], '2.28': ['1'], 'sept': ['1', '1'], 'oct/dec': ['1', '1'], '4,480': ['1'], 'destinations': ['1'], 'covertible': ['1'], 'currency': ['1', '1'], 'uruguay': ['1', '1'], 'cake': ['1'], 'registered': ['1'], '785': ['1', '1'], '995': ['1'], '753': ['1'], 'aug': ['1'], '0.39': ['1'], 'dec': ['1'], 'buyers': ['1'], 'convertible': ['1'], 'liquor': ['1'], 'selling': ['1'], '2,325': ['1'], '2,380': ['1'], '2,375': ['1'], '1.25': ['1', '1', '1'], '2,400': ['1'], 'currently': ['1'], 'estimated': ['1'], '6.13': ['1'], '1986/87': ['1', '6', '6'], '1.06': ['1'], '1987/88': ['1'], 'final': ['1'], 'figures': ['1', '6'], '28': ['1'], 'expected': ['1'], 'published': ['1'], 'by': ['1'], 'brazilian': ['1'], 'trade': ['1'], 'commission': ['1'], 'after': ['1', '5', '5', '5', '5', '5'], 'carnival': ['1'], 'which': ['1'], 'ends': ['1'], 'midday': ['1'], 'computer': ['10', '10', '10', '10', '10', '10', '10'], 'terminal': ['10', '10', '10', '10', '10'], 'systems': ['10', '10'], '&lt;cpml>': ['10'], 'completes': ['10'], 'sale': ['10', '10'], 'inc': ['10', '9'], 'completed': ['10'], '200,000': ['10', '10'], 'shares': ['10', '10', '9'], 'common': ['10', '10', '10', '9'], 'warrants': ['10', '10', '10'], 'acquire': ['10'], 'additional': ['10', '10'], 'one': ['10'], '&lt;sedio': ['10'], 'n.v.>': ['10'], 'switzerland': ['10'], '50,000': ['10'], 'company': ['10', '10', '10', '9'], 'exercisable': ['10', '10'], 'five': ['10', '9'], 'years': ['10'], 'purchase': ['10'], 'price': ['10', '10', '10', '5', '5', '5', '5', '5'], '.125': ['10'], 'sedio': ['10'], 'right': ['10'], 'buy': ['10'], 'increase': ['10', '9'], 'holdings': ['10'], 'up': ['10'], '40': ['10'], 'pct': ['10', '10'], \"terminal's\": ['10'], 'outstanding': ['10'], 'stock': ['10', '9', '9', '9'], 'certain': ['10'], 'circumstances': ['10'], 'involving': ['10'], 'change': ['10'], 'control': ['10'], 'if': ['10'], 'conditions': ['10'], 'occur': ['10'], 'equal': ['10'], '75': ['10'], \"stock's\": ['10'], 'market': ['10'], 'exceed': ['10'], '1.50': ['10'], 'technolgy': ['10'], 'rights': ['10'], 'dot': ['10'], 'matrix': ['10'], 'impact': ['10'], 'including': ['10'], 'any': ['10'], 'future': ['10', '6'], '&lt;woodco': ['10'], 'inc>': ['10'], 'continue': ['10'], 'exclusive': ['10'], 'worldwide': ['10'], 'licensee': ['10'], 'technology': ['10'], 'moves': ['10'], 'reorganization': ['10'], 'plan': ['10'], 'help': ['10'], 'pay': ['10'], 'current': ['10'], 'operation': ['10'], 'costs': ['10'], 'ensure': ['10'], 'product': ['10'], 'makes': ['10'], 'generated': ['10'], 'tags': ['10'], 'ticket': ['10'], 'printers': ['10'], 'national': ['5', '5'], 'average': ['5', '5'], 'farmer-owned': ['5', '5'], 'reserve': ['5', '5'], 'agriculture': ['5'], 'department': ['5'], 'reported': ['5'], 'five-day': ['5'], 'through': ['5'], '25': ['5', '9'], 'follows': ['5'], '(dlrs/bu-sorghum': ['5'], 'cwt)': ['5'], '-': ['5', '5'], 'natl': ['5', '5'], 'loan': ['5', '5'], 'release': ['5', '5'], 'call': ['5', '5'], 'avge': ['5', '5'], 'rate-x': ['5', '5'], 'level': ['5', '5', '5', '5', '5'], 'wheat': ['5', '5', '6', '6'], '2.55': ['5', '5', '5'], '2.40': ['5'], 'iv': ['5', '5', '5', '5', '5'], '4.65': ['5', '5'], '--': ['5', '5', '5', '5', '5', '5', '5'], 'v': ['5', '5', '5', '5', '5', '5'], 'vi': ['5', '5'], '4.45': ['5'], 'corn': ['5'], '1.35': ['5'], '1.92': ['5'], '3.15': ['5', '5'], '3.25': ['5'], 'x': ['5'], '1986': ['5'], 'oats': ['5'], '1.24': ['5'], '0.99': ['5'], '1.65': ['5'], 'barley': ['5'], '1.56': ['5'], '2.65': ['5'], 'sorghum': ['5', '6'], '2.34': ['5'], '3.25-y': ['5'], '5.36': ['5', '5'], '5.54': ['5'], 'reserves': ['5'], 'ii': ['5'], 'iii': ['5'], 'reflects': ['5'], 'grain': ['5', '6'], 'entered': ['5', '5'], 'oct': ['5'], '1981': ['5', '5'], 'feedgrain': ['5'], 'july': ['5'], 'wheat/barley': ['5'], 'corn/sorghum': ['5'], 'covers': ['5'], 'x-1986': ['5'], 'y-dlrs': ['5'], 'cwt': ['5'], '(100': ['5'], 'n.a.-not': ['5'], 'argentine': ['6', '6'], 'grain/oilseed': ['6'], 'registrations': ['6', '6', '6', '6', '6'], 'board': ['6', '6', '9', '9'], 'show': ['6'], 'oilseeds': ['6'], 'products': ['6', '9', '9'], 'thousands': ['6'], 'showing': ['6'], 'those': ['6'], 'shipments': ['6'], '1985/86': ['6'], ':': ['6', '6', '6'], 'bread': ['6'], 'prev': ['6', '6', '6', '6', '6', '6', '6', '6'], 'feb': ['6', '6', '6', '6', '6', '6', '6', '6'], '2,692.4': ['6'], 'maize': ['6'], 'mar': ['6', '6', '6', '6', '6', '6', '6'], '48.0': ['6'], 'nil': ['6'], '(nil)': ['6', '6'], 'oilseed': ['6'], 'sunflowerseed': ['6', '6'], '15.0': ['6'], '(7.9)': ['6'], 'soybean': ['6', '6', '6'], 'may': ['6', '6', '6', '6'], '20.0': ['6'], 'detailed': ['6'], 'subproducts': ['6'], 'apr': ['6', '6', '6', '6', '6', '6', '6'], '111.8': ['6'], '(82.7)': ['6'], 'linseed': ['6'], '80.8': ['6'], '166.1': ['6'], '149.8': ['6'], 'vegetable': ['6'], 'oil': ['6', '6'], 'sunoil': ['6'], 'jun': ['6', '6'], '182.4': ['6'], 'linoil': ['6'], 'jul': ['6'], '55.8': ['6'], 'reuter': ['6'], 'champion': ['9', '9'], '&lt;ch>': ['9'], 'approves': ['9'], 'split': ['9', '9'], 'directors': ['9'], 'approved': ['9'], 'two-for-one': ['9'], 'shareholders': ['9', '9'], 'record': ['9'], 'april': ['9', '9'], 'voted': ['9'], 'recommend': ['9'], 'annual': ['9'], 'meeting': ['9'], '23': ['9'], 'authorized': ['9'], 'capital': ['9'], 'from': ['9']}\n"
     ]
    }
   ],
   "source": [
    "print(InvertedIndex())"
   ]
  },
  {
   "cell_type": "markdown",
   "metadata": {},
   "source": [
    "5.\tBuild a generalized module to merge any number of posting lists"
   ]
  },
  {
   "cell_type": "code",
   "execution_count": 56,
   "metadata": {},
   "outputs": [
    {
     "name": "stdout",
     "output_type": "stream",
     "text": [
      "Enter number of elements:2\n",
      "Enter element:1\n",
      "Enter element:3\n",
      "Enter number of elements:2\n",
      "Enter element:1\n",
      "Enter element:2\n",
      "Sorted list is: [1, 1, 2, 3]\n"
     ]
    }
   ],
   "source": [
    "list_1=[]\n",
    "list_2=[]\n",
    "input_1=int(input(\"Enter number of elements:\"))\n",
    "\n",
    "for i in range(1,input_1+1):\n",
    "    b=int(input(\"Enter element:\"))\n",
    "    list_1.append(b)\n",
    "    \n",
    "input_2=int(input(\"Enter number of elements:\"))\n",
    "for i in range(1,input_2+1):\n",
    "    d=int(input(\"Enter element:\"))\n",
    "    list_2.append(d)\n",
    "    \n",
    "new=list_1+list_2\n",
    "new.sort()\n",
    "print(\"Sorted list is:\",new)"
   ]
  },
  {
   "cell_type": "markdown",
   "metadata": {},
   "source": [
    "----------------------------------------"
   ]
  },
  {
   "cell_type": "markdown",
   "metadata": {},
   "source": [
    "Q3)Build modules to perform the following IR techniques.  Test your modules using proper strings.\n"
   ]
  },
  {
   "cell_type": "markdown",
   "metadata": {},
   "source": [
    "1.\tCreate Permuterm Index for any given word."
   ]
  },
  {
   "cell_type": "code",
   "execution_count": 33,
   "metadata": {},
   "outputs": [],
   "source": [
    "def PermutermIndex (word):\n",
    "    word =word+'$'\n",
    "    pt=[word]\n",
    "    for l in word:\n",
    "        if l == '$':\n",
    "            break\n",
    "        word=word[1:]+l\n",
    "        pt.append(word)\n",
    "    return pt"
   ]
  },
  {
   "cell_type": "code",
   "execution_count": 35,
   "metadata": {},
   "outputs": [
    {
     "name": "stdout",
     "output_type": "stream",
     "text": [
      "Permuterm Index of Hello ['Hello$', 'ello$H', 'llo$He', 'lo$Hel', 'o$Hell', '$Hello']\n"
     ]
    }
   ],
   "source": [
    "print('Permuterm Index of Hello '+str(PermutermIndex(\"Hello\")))"
   ]
  },
  {
   "cell_type": "markdown",
   "metadata": {},
   "source": [
    "2.\tFind out the Levenshtein distance between two words."
   ]
  },
  {
   "cell_type": "code",
   "execution_count": 41,
   "metadata": {},
   "outputs": [],
   "source": [
    "def LevenshteinDistance (word1, word2): \n",
    "    \n",
    "    if len(word1) > len(word2): \n",
    "        difference = len(word1) - len(word2) \n",
    "        word1[:difference]\n",
    "        \n",
    "    elif len(word2) > len(word1): \n",
    "        difference = len(word2) - len(word1) \n",
    "        word2[:difference]\n",
    "        \n",
    "    else:  \n",
    "        difference = 0\n",
    "        \n",
    "    for x in range(len(word1)): \n",
    "        if word1[x] != word2[x]:\n",
    "            difference += 1\n",
    "            \n",
    "    return difference"
   ]
  },
  {
   "cell_type": "code",
   "execution_count": 42,
   "metadata": {},
   "outputs": [
    {
     "name": "stdout",
     "output_type": "stream",
     "text": [
      "Levenshtein Distance of Hello,Yellow words :2\n"
     ]
    }
   ],
   "source": [
    "print('Levenshtein Distance of Hello,Yellow words :'+str(LevenshteinDistance(\"Hello\", \"Yellow\")))"
   ]
  },
  {
   "cell_type": "markdown",
   "metadata": {},
   "source": [
    "3.\tImplement the SOUNDEX algorithm.\t"
   ]
  },
  {
   "cell_type": "code",
   "execution_count": 45,
   "metadata": {},
   "outputs": [],
   "source": [
    "def SOUNDEX(word):  \n",
    "    #conver to uppercase\n",
    "    word = word.upper() \n",
    "    \n",
    "    soundex = \"\" \n",
    "    soundex += word[0]\n",
    "    \n",
    "#  convert letters to following except first letter\n",
    "# B, F, P, V ----> 1\n",
    "# C, G, J, K, Q, S, X, Z ---> 2\n",
    "# D,T ---> 3\n",
    "# L ---> 4\n",
    "# M, N ---> 5\n",
    "# R ---> 6\n",
    "\n",
    "    dire = {\"BFPV\": \"1\", \"CGJKQSXZ\":\"2\", \"DT\":\"3\", \"L\":\"4\", \"MN\":\"5\", \"R\":\"6\", \"AEIOUHWY\":\".\"} \n",
    "    #check letters fro 1 position\n",
    "    for character in word[1:]: \n",
    "        for key in dire.keys(): \n",
    "            if character in key: \n",
    "                letter = dire[key]\n",
    "                if letter != soundex[-1]: \n",
    "                    soundex += letter\n",
    "                    \n",
    "    soundex = soundex.replace(\".\", \"\") \n",
    "    soundex = soundex[:4].ljust(4, \"0\")\n",
    "    \n",
    "    return soundex"
   ]
  },
  {
   "cell_type": "code",
   "execution_count": 47,
   "metadata": {},
   "outputs": [
    {
     "name": "stdout",
     "output_type": "stream",
     "text": [
      "Appliying Soundex algorithm to-DataScience  :D325\n"
     ]
    }
   ],
   "source": [
    "print('Appliying Soundex algorithm to-DataScience  :'+str(SOUNDEX(\"DataScience\")))"
   ]
  }
 ],
 "metadata": {
  "kernelspec": {
   "display_name": "Python 3",
   "language": "python",
   "name": "python3"
  },
  "language_info": {
   "codemirror_mode": {
    "name": "ipython",
    "version": 3
   },
   "file_extension": ".py",
   "mimetype": "text/x-python",
   "name": "python",
   "nbconvert_exporter": "python",
   "pygments_lexer": "ipython3",
   "version": "3.7.6"
  }
 },
 "nbformat": 4,
 "nbformat_minor": 4
}
